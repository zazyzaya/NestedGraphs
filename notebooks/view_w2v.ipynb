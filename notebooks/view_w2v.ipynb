{
 "cells": [
  {
   "cell_type": "code",
   "execution_count": 1,
   "metadata": {},
   "outputs": [
    {
     "name": "stdout",
     "output_type": "stream",
     "text": [
      "/home/isaiah/code/NestedGraphs\n"
     ]
    }
   ],
   "source": [
    "%cd .."
   ]
  },
  {
   "cell_type": "code",
   "execution_count": 2,
   "metadata": {},
   "outputs": [],
   "source": [
    "import glob \n",
    "import pickle\n",
    "import torch \n",
    "\n",
    "from utils.graph_utils import propagate_labels\n",
    "\n",
    "FEATS = 'feature_extraction/data/features/'\n",
    "GRAPHS = 'inputs/Sept23/mal/'"
   ]
  },
  {
   "cell_type": "code",
   "execution_count": 4,
   "metadata": {},
   "outputs": [
    {
     "name": "stdout",
     "output_type": "stream",
     "text": [
      "503 tensor([0])\n",
      "205 tensor([0])\n",
      "321 tensor([0])\n",
      "609 tensor([0])\n",
      "255 tensor([0])\n",
      "419 tensor([0])\n",
      "355 tensor([0])\n",
      "104 tensor([0])\n",
      "955 tensor([0])\n",
      "874 tensor([0])\n",
      "660 tensor([0])\n",
      "771 tensor([0])\n",
      "559 tensor([0])\n",
      "462 tensor([0])\n",
      "201 tensor([0])\n",
      "torch.Size([66810, 128]) torch.Size([434180])\n",
      "tensor([[ 0.0128, -0.2468,  0.0728,  ...,  0.1410,  0.1636,  0.1073],\n",
      "        [-0.1379, -0.2820, -0.1315,  ..., -0.1061, -0.3675,  0.1687],\n",
      "        [ 0.0706, -0.0543,  0.0765,  ..., -0.0588, -0.0171,  0.0179],\n",
      "        ...,\n",
      "        [-0.0373, -0.3295, -0.3702,  ..., -0.5143, -0.9885,  0.2540],\n",
      "        [-0.0522, -0.1024,  0.1760,  ..., -0.0220,  0.0159, -0.0022],\n",
      "        [-0.1379, -0.2820, -0.1315,  ..., -0.1061, -0.3675,  0.1687]],\n",
      "       device='cuda:3')\n"
     ]
    },
    {
     "ename": "",
     "evalue": "",
     "output_type": "error",
     "traceback": [
      "\u001b[1;31mThe Kernel crashed while executing code in the the current cell or a previous cell. Please review the code in the cell(s) to identify a possible cause of the failure. Click <a href='https://aka.ms/vscodeJupyterKernelCrash'>here</a> for more info. View Jupyter <a href='command:jupyter.viewOutput'>log</a> for further details."
     ]
    }
   ],
   "source": [
    "embs = []\n",
    "labels = []\n",
    "missing = []\n",
    "\n",
    "for gf in glob.glob(GRAPHS+'*.pkl'):\n",
    "    with open(gf, 'rb') as f:\n",
    "        g = pickle.load(f)\n",
    "\n",
    "    procs = (g.x[:,0] == 1).nonzero()\n",
    "    y = propagate_labels(g, 23)\n",
    "\n",
    "    uuids = []\n",
    "    for p in procs:\n",
    "        uuids.append(g.get(p)['uuid'])\n",
    "\n",
    "    # This will be updated so the dict doesn't have to be made\n",
    "    # every time\n",
    "    mapping,feats = torch.load(FEATS+'%d.pkl' % g.gid)\n",
    "    mapping = {m:i for i,m in enumerate(mapping)}\n",
    "\n",
    "    for i,uuid in enumerate(uuids):\n",
    "        if fid := mapping.get(uuid):\n",
    "            embs.append(feats[fid])\n",
    "        else:\n",
    "            missing.append((uuid,y[i]))\n",
    "\n",
    "    labels.append(y)\n",
    "\n",
    "embs = torch.stack(embs)\n",
    "labels = torch.cat(labels, dim=0)\n",
    "\n",
    "print(embs.size(),labels.size())\n",
    "print(embs)"
   ]
  }
 ],
 "metadata": {
  "kernelspec": {
   "display_name": "Python 3.9.13 ('gpu')",
   "language": "python",
   "name": "python3"
  },
  "language_info": {
   "codemirror_mode": {
    "name": "ipython",
    "version": 3
   },
   "file_extension": ".py",
   "mimetype": "text/x-python",
   "name": "python",
   "nbconvert_exporter": "python",
   "pygments_lexer": "ipython3",
   "version": "3.9.13"
  },
  "orig_nbformat": 4,
  "vscode": {
   "interpreter": {
    "hash": "db915b933937f181d4017df79cb4c053fff13bcbd81da1c0dd4b260783d8f514"
   }
  }
 },
 "nbformat": 4,
 "nbformat_minor": 2
}
