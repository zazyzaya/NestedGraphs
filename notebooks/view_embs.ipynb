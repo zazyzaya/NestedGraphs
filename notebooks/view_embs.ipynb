{
 "cells": [
  {
   "cell_type": "code",
   "execution_count": 1,
   "metadata": {},
   "outputs": [
    {
     "name": "stdout",
     "output_type": "stream",
     "text": [
      "/home/isaiah/code/NestedGraphs\n"
     ]
    }
   ],
   "source": [
    "%cd /home/isaiah/code/NestedGraphs/"
   ]
  },
  {
   "cell_type": "code",
   "execution_count": 2,
   "metadata": {},
   "outputs": [],
   "source": [
    "import glob\n",
    "import torch \n",
    "import pickle\n",
    "import matplotlib.pyplot as plt\n",
    "from sklearn.decomposition import PCA \n",
    "from sklearn.manifold import TSNE"
   ]
  },
  {
   "cell_type": "code",
   "execution_count": 3,
   "metadata": {},
   "outputs": [
    {
     "name": "stdout",
     "output_type": "stream",
     "text": [
      "torch.Size([77352, 128])\n",
      "torch.Size([49125, 128])\n"
     ]
    }
   ],
   "source": [
    "b_embs = glob.glob('inputs/Sept23/benign/tgat_embgraph*')\n",
    "m_embs = glob.glob('inputs/Sept23/mal/tgat_embgraph*')\n",
    "\n",
    "bs = []\n",
    "for b in b_embs:\n",
    "    bs.append(torch.load(b))\n",
    "\n",
    "ms = []\n",
    "for m in m_embs:\n",
    "    ms.append(torch.load(m))\n",
    "\n",
    "b_x = torch.cat([b for b in bs])\n",
    "m_x = torch.cat([m for m in ms])\n",
    "\n",
    "print(b_x.size())\n",
    "print(m_x.size())\n"
   ]
  },
  {
   "cell_type": "code",
   "execution_count": 4,
   "metadata": {},
   "outputs": [],
   "source": [
    "from utils.graph_utils import propagate_labels\n",
    "\n",
    "colors = []\n",
    "for m in m_embs:\n",
    "    with open(m.replace('tgat_emb','full_'), 'rb') as f:\n",
    "        g = pickle.load(f)\n",
    "\n",
    "    procs = (g.x[:,0] == 1).nonzero().squeeze(-1)\n",
    "    y = propagate_labels(g,23)\n",
    "    colors.append(y[procs])\n",
    "\n",
    "colors = torch.cat(colors).clamp(0,1)"
   ]
  },
  {
   "cell_type": "code",
   "execution_count": 6,
   "metadata": {},
   "outputs": [],
   "source": [
    "def plots_dots(b_x, m_x, title, colors):\n",
    "    pca = PCA(n_components=3)\n",
    "    bx = pca.fit_transform(m_x)\n",
    "    x = pca.transform(m_x)\n",
    "\n",
    "    #plt.scatter(bx[:,0], bx[:,1], color='blue')\n",
    "    plt.scatter(x[colors==0,0], x[colors==0,1], color='blue')\n",
    "    plt.scatter(x[colors==1,0], x[colors==1,1], color='red')\n",
    "    plt.title(title)\n",
    "    plt.show()\n",
    "\n",
    "    plt.scatter(x[colors==0,0], x[colors==0,2], color='blue')\n",
    "    plt.scatter(x[colors==1,0], x[colors==1,2], color='red')\n",
    "    plt.title(title)\n",
    "    plt.show()"
   ]
  },
  {
   "cell_type": "code",
   "execution_count": 8,
   "metadata": {},
   "outputs": [
    {
     "ename": "TypeError",
     "evalue": "can't convert cuda:0 device type tensor to numpy. Use Tensor.cpu() to copy the tensor to host memory first.",
     "output_type": "error",
     "traceback": [
      "\u001b[0;31m---------------------------------------------------------------------------\u001b[0m",
      "\u001b[0;31mTypeError\u001b[0m                                 Traceback (most recent call last)",
      "\u001b[1;32m/home/isaiah/code/NestedGraphs/notebooks/view_embs.ipynb Cell 6\u001b[0m in \u001b[0;36m<cell line: 1>\u001b[0;34m()\u001b[0m\n\u001b[0;32m----> <a href='vscode-notebook-cell://ssh-remote%2Borion.ece.seas.gwu.edu/home/isaiah/code/NestedGraphs/notebooks/view_embs.ipynb#W5sdnNjb2RlLXJlbW90ZQ%3D%3D?line=0'>1</a>\u001b[0m plots_dots(b_x, m_x, \u001b[39m'\u001b[39;49m\u001b[39mSelf CL 4 epochs\u001b[39;49m\u001b[39m'\u001b[39;49m, colors)\n",
      "\u001b[1;32m/home/isaiah/code/NestedGraphs/notebooks/view_embs.ipynb Cell 6\u001b[0m in \u001b[0;36mplots_dots\u001b[0;34m(b_x, m_x, title, colors)\u001b[0m\n\u001b[1;32m      <a href='vscode-notebook-cell://ssh-remote%2Borion.ece.seas.gwu.edu/home/isaiah/code/NestedGraphs/notebooks/view_embs.ipynb#W5sdnNjb2RlLXJlbW90ZQ%3D%3D?line=0'>1</a>\u001b[0m \u001b[39mdef\u001b[39;00m \u001b[39mplots_dots\u001b[39m(b_x, m_x, title, colors):\n\u001b[1;32m      <a href='vscode-notebook-cell://ssh-remote%2Borion.ece.seas.gwu.edu/home/isaiah/code/NestedGraphs/notebooks/view_embs.ipynb#W5sdnNjb2RlLXJlbW90ZQ%3D%3D?line=1'>2</a>\u001b[0m     pca \u001b[39m=\u001b[39m PCA(n_components\u001b[39m=\u001b[39m\u001b[39m3\u001b[39m)\n\u001b[0;32m----> <a href='vscode-notebook-cell://ssh-remote%2Borion.ece.seas.gwu.edu/home/isaiah/code/NestedGraphs/notebooks/view_embs.ipynb#W5sdnNjb2RlLXJlbW90ZQ%3D%3D?line=2'>3</a>\u001b[0m     bx \u001b[39m=\u001b[39m pca\u001b[39m.\u001b[39;49mfit_transform(m_x)\n\u001b[1;32m      <a href='vscode-notebook-cell://ssh-remote%2Borion.ece.seas.gwu.edu/home/isaiah/code/NestedGraphs/notebooks/view_embs.ipynb#W5sdnNjb2RlLXJlbW90ZQ%3D%3D?line=3'>4</a>\u001b[0m     x \u001b[39m=\u001b[39m pca\u001b[39m.\u001b[39mtransform(m_x)\n\u001b[1;32m      <a href='vscode-notebook-cell://ssh-remote%2Borion.ece.seas.gwu.edu/home/isaiah/code/NestedGraphs/notebooks/view_embs.ipynb#W5sdnNjb2RlLXJlbW90ZQ%3D%3D?line=5'>6</a>\u001b[0m     \u001b[39m#plt.scatter(bx[:,0], bx[:,1], color='blue')\u001b[39;00m\n",
      "File \u001b[0;32m~/miniconda3/envs/gpu/lib/python3.9/site-packages/sklearn/decomposition/_pca.py:433\u001b[0m, in \u001b[0;36mPCA.fit_transform\u001b[0;34m(self, X, y)\u001b[0m\n\u001b[1;32m    411\u001b[0m \u001b[39mdef\u001b[39;00m \u001b[39mfit_transform\u001b[39m(\u001b[39mself\u001b[39m, X, y\u001b[39m=\u001b[39m\u001b[39mNone\u001b[39;00m):\n\u001b[1;32m    412\u001b[0m     \u001b[39m\"\"\"Fit the model with X and apply the dimensionality reduction on X.\u001b[39;00m\n\u001b[1;32m    413\u001b[0m \n\u001b[1;32m    414\u001b[0m \u001b[39m    Parameters\u001b[39;00m\n\u001b[0;32m   (...)\u001b[0m\n\u001b[1;32m    431\u001b[0m \u001b[39m    C-ordered array, use 'np.ascontiguousarray'.\u001b[39;00m\n\u001b[1;32m    432\u001b[0m \u001b[39m    \"\"\"\u001b[39;00m\n\u001b[0;32m--> 433\u001b[0m     U, S, Vt \u001b[39m=\u001b[39m \u001b[39mself\u001b[39;49m\u001b[39m.\u001b[39;49m_fit(X)\n\u001b[1;32m    434\u001b[0m     U \u001b[39m=\u001b[39m U[:, : \u001b[39mself\u001b[39m\u001b[39m.\u001b[39mn_components_]\n\u001b[1;32m    436\u001b[0m     \u001b[39mif\u001b[39;00m \u001b[39mself\u001b[39m\u001b[39m.\u001b[39mwhiten:\n\u001b[1;32m    437\u001b[0m         \u001b[39m# X_new = X * V / S * sqrt(n_samples) = U * sqrt(n_samples)\u001b[39;00m\n",
      "File \u001b[0;32m~/miniconda3/envs/gpu/lib/python3.9/site-packages/sklearn/decomposition/_pca.py:456\u001b[0m, in \u001b[0;36mPCA._fit\u001b[0;34m(self, X)\u001b[0m\n\u001b[1;32m    450\u001b[0m \u001b[39mif\u001b[39;00m issparse(X):\n\u001b[1;32m    451\u001b[0m     \u001b[39mraise\u001b[39;00m \u001b[39mTypeError\u001b[39;00m(\n\u001b[1;32m    452\u001b[0m         \u001b[39m\"\u001b[39m\u001b[39mPCA does not support sparse input. See \u001b[39m\u001b[39m\"\u001b[39m\n\u001b[1;32m    453\u001b[0m         \u001b[39m\"\u001b[39m\u001b[39mTruncatedSVD for a possible alternative.\u001b[39m\u001b[39m\"\u001b[39m\n\u001b[1;32m    454\u001b[0m     )\n\u001b[0;32m--> 456\u001b[0m X \u001b[39m=\u001b[39m \u001b[39mself\u001b[39;49m\u001b[39m.\u001b[39;49m_validate_data(\n\u001b[1;32m    457\u001b[0m     X, dtype\u001b[39m=\u001b[39;49m[np\u001b[39m.\u001b[39;49mfloat64, np\u001b[39m.\u001b[39;49mfloat32], ensure_2d\u001b[39m=\u001b[39;49m\u001b[39mTrue\u001b[39;49;00m, copy\u001b[39m=\u001b[39;49m\u001b[39mself\u001b[39;49m\u001b[39m.\u001b[39;49mcopy\n\u001b[1;32m    458\u001b[0m )\n\u001b[1;32m    460\u001b[0m \u001b[39m# Handle n_components==None\u001b[39;00m\n\u001b[1;32m    461\u001b[0m \u001b[39mif\u001b[39;00m \u001b[39mself\u001b[39m\u001b[39m.\u001b[39mn_components \u001b[39mis\u001b[39;00m \u001b[39mNone\u001b[39;00m:\n",
      "File \u001b[0;32m~/miniconda3/envs/gpu/lib/python3.9/site-packages/sklearn/base.py:577\u001b[0m, in \u001b[0;36mBaseEstimator._validate_data\u001b[0;34m(self, X, y, reset, validate_separately, **check_params)\u001b[0m\n\u001b[1;32m    575\u001b[0m     \u001b[39mraise\u001b[39;00m \u001b[39mValueError\u001b[39;00m(\u001b[39m\"\u001b[39m\u001b[39mValidation should be done on X, y or both.\u001b[39m\u001b[39m\"\u001b[39m)\n\u001b[1;32m    576\u001b[0m \u001b[39melif\u001b[39;00m \u001b[39mnot\u001b[39;00m no_val_X \u001b[39mand\u001b[39;00m no_val_y:\n\u001b[0;32m--> 577\u001b[0m     X \u001b[39m=\u001b[39m check_array(X, input_name\u001b[39m=\u001b[39;49m\u001b[39m\"\u001b[39;49m\u001b[39mX\u001b[39;49m\u001b[39m\"\u001b[39;49m, \u001b[39m*\u001b[39;49m\u001b[39m*\u001b[39;49mcheck_params)\n\u001b[1;32m    578\u001b[0m     out \u001b[39m=\u001b[39m X\n\u001b[1;32m    579\u001b[0m \u001b[39melif\u001b[39;00m no_val_X \u001b[39mand\u001b[39;00m \u001b[39mnot\u001b[39;00m no_val_y:\n",
      "File \u001b[0;32m~/miniconda3/envs/gpu/lib/python3.9/site-packages/sklearn/utils/validation.py:856\u001b[0m, in \u001b[0;36mcheck_array\u001b[0;34m(array, accept_sparse, accept_large_sparse, dtype, order, copy, force_all_finite, ensure_2d, allow_nd, ensure_min_samples, ensure_min_features, estimator, input_name)\u001b[0m\n\u001b[1;32m    854\u001b[0m         array \u001b[39m=\u001b[39m array\u001b[39m.\u001b[39mastype(dtype, casting\u001b[39m=\u001b[39m\u001b[39m\"\u001b[39m\u001b[39munsafe\u001b[39m\u001b[39m\"\u001b[39m, copy\u001b[39m=\u001b[39m\u001b[39mFalse\u001b[39;00m)\n\u001b[1;32m    855\u001b[0m     \u001b[39melse\u001b[39;00m:\n\u001b[0;32m--> 856\u001b[0m         array \u001b[39m=\u001b[39m np\u001b[39m.\u001b[39;49masarray(array, order\u001b[39m=\u001b[39;49morder, dtype\u001b[39m=\u001b[39;49mdtype)\n\u001b[1;32m    857\u001b[0m \u001b[39mexcept\u001b[39;00m ComplexWarning \u001b[39mas\u001b[39;00m complex_warning:\n\u001b[1;32m    858\u001b[0m     \u001b[39mraise\u001b[39;00m \u001b[39mValueError\u001b[39;00m(\n\u001b[1;32m    859\u001b[0m         \u001b[39m\"\u001b[39m\u001b[39mComplex data not supported\u001b[39m\u001b[39m\\n\u001b[39;00m\u001b[39m{}\u001b[39;00m\u001b[39m\\n\u001b[39;00m\u001b[39m\"\u001b[39m\u001b[39m.\u001b[39mformat(array)\n\u001b[1;32m    860\u001b[0m     ) \u001b[39mfrom\u001b[39;00m \u001b[39mcomplex_warning\u001b[39;00m\n",
      "File \u001b[0;32m~/miniconda3/envs/gpu/lib/python3.9/site-packages/torch/_tensor.py:759\u001b[0m, in \u001b[0;36mTensor.__array__\u001b[0;34m(self, dtype)\u001b[0m\n\u001b[1;32m    757\u001b[0m     \u001b[39mreturn\u001b[39;00m \u001b[39mself\u001b[39m\u001b[39m.\u001b[39mnumpy()\n\u001b[1;32m    758\u001b[0m \u001b[39melse\u001b[39;00m:\n\u001b[0;32m--> 759\u001b[0m     \u001b[39mreturn\u001b[39;00m \u001b[39mself\u001b[39;49m\u001b[39m.\u001b[39;49mnumpy()\u001b[39m.\u001b[39mastype(dtype, copy\u001b[39m=\u001b[39m\u001b[39mFalse\u001b[39;00m)\n",
      "\u001b[0;31mTypeError\u001b[0m: can't convert cuda:0 device type tensor to numpy. Use Tensor.cpu() to copy the tensor to host memory first."
     ]
    }
   ],
   "source": [
    "plots_dots(b_x.cpu(), m_x.cpu(), 'Self CL 4 epochs', colors)"
   ]
  },
  {
   "cell_type": "code",
   "execution_count": 7,
   "metadata": {},
   "outputs": [
    {
     "name": "stderr",
     "output_type": "stream",
     "text": [
      "100%|██████████| 25/25 [02:19<00:00,  5.57s/it]\n",
      "100%|██████████| 17/17 [01:39<00:00,  5.88s/it]"
     ]
    },
    {
     "name": "stdout",
     "output_type": "stream",
     "text": [
      "torch.Size([90833, 64])\n",
      "torch.Size([59265, 64])\n"
     ]
    },
    {
     "name": "stderr",
     "output_type": "stream",
     "text": [
      "\n"
     ]
    }
   ],
   "source": [
    "from graph_utils import propagate_labels\n",
    "from tqdm import tqdm \n",
    "\n",
    "b_embs = glob.glob('inputs/Sept23/benign/tgat_embgraph*')\n",
    "m_embs = glob.glob('inputs/Sept23/mal/tgat_embgraph*')\n",
    "\n",
    "bs = []\n",
    "for b in tqdm(b_embs):\n",
    "    with open(b.replace('tgat_embgraph','full_graph'), 'rb') as f:\n",
    "        g = pickle.load(f)\n",
    "\n",
    "    mask = torch.tensor(g.ntypes) == 0\n",
    "    bs.append(torch.load(b)[mask])\n",
    "\n",
    "ms = []\n",
    "colors = []\n",
    "for m in tqdm(m_embs):\n",
    "    with open(m.replace('tgat_embgraph','full_graph'), 'rb') as f:\n",
    "        g = pickle.load(f)\n",
    "    \n",
    "    proc_mask = torch.tensor(g.ntypes)==0\n",
    "\n",
    "    ms.append(torch.load(m)[proc_mask])\n",
    "    colors.append(propagate_labels(g,23)[proc_mask])\n",
    "\n",
    "b_x = torch.cat([b for b in bs])\n",
    "m_x = torch.cat([m for m in ms])\n",
    "\n",
    "print(b_x.size())\n",
    "print(m_x.size())\n",
    "colors = torch.cat(colors).clamp(0,1)"
   ]
  },
  {
   "cell_type": "code",
   "execution_count": 13,
   "metadata": {},
   "outputs": [
    {
     "data": {
      "image/png": "[encoded data removed]",
      "text/plain": [
       "<Figure size 432x288 with 1 Axes>"
      ]
     },
     "metadata": {
      "needs_background": "light"
     },
     "output_type": "display_data"
    },
    {
     "data": {
      "image/png": "[encoded data removed]",
      "text/plain": [
       "<Figure size 432x288 with 1 Axes>"
      ]
     },
     "metadata": {
      "needs_background": "light"
     },
     "output_type": "display_data"
    }
   ],
   "source": [
    "plots_dots(b_x, m_x, 'TGAT Embeddings', colors)"
   ]
  },
  {
   "cell_type": "code",
   "execution_count": null,
   "metadata": {},
   "outputs": [],
   "source": []
  }
 ],
 "metadata": {
  "kernelspec": {
   "display_name": "Python 3.9.13 ('gpu')",
   "language": "python",
   "name": "python3"
  },
  "language_info": {
   "codemirror_mode": {
    "name": "ipython",
    "version": 3
   },
   "file_extension": ".py",
   "mimetype": "text/x-python",
   "name": "python",
   "nbconvert_exporter": "python",
   "pygments_lexer": "ipython3",
   "version": "3.9.13"
  },
  "orig_nbformat": 4,
  "vscode": {
   "interpreter": {
    "hash": "db915b933937f181d4017df79cb4c053fff13bcbd81da1c0dd4b260783d8f514"
   }
  }
 },
 "nbformat": 4,
 "nbformat_minor": 2
}
