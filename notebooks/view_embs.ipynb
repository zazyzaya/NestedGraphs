{
 "cells": [
  {
   "cell_type": "code",
   "execution_count": 2,
   "metadata": {},
   "outputs": [
    {
     "name": "stdout",
     "output_type": "stream",
     "text": [
      "/mnt/raid0_24TB/isaiah/code/NestedGraphs\n"
     ]
    }
   ],
   "source": [
    "%cd /mnt/raid0_24TB/isaiah/code/NestedGraphs/"
   ]
  },
  {
   "cell_type": "code",
   "execution_count": 15,
   "metadata": {},
   "outputs": [],
   "source": [
    "import glob\n",
    "import torch \n",
    "import pickle\n",
    "import matplotlib.pyplot as plt\n",
    "from sklearn.decomposition import PCA \n",
    "from sklearn.manifold import TSNE"
   ]
  },
  {
   "cell_type": "code",
   "execution_count": 12,
   "metadata": {},
   "outputs": [
    {
     "name": "stdout",
     "output_type": "stream",
     "text": [
      "torch.Size([77567, 512])\n"
     ]
    }
   ],
   "source": [
    "MAL = [201,402,660]\n",
    "\n",
    "b_embs = glob.glob('inputs/benign/emb*')\n",
    "m_embs = ['inputs/mal/emb%d.pkl'%i for i in MAL]\n",
    "\n",
    "bs = []\n",
    "for b in b_embs:\n",
    "    with open(b,'rb') as f:\n",
    "        bs.append(pickle.load(f))\n",
    "\n",
    "ms = []\n",
    "for m in m_embs:\n",
    "    with open(m,'rb') as f:\n",
    "        ms.append(pickle.load(f))\n",
    "\n",
    "b_x = torch.cat([b for b in bs])\n",
    "m_x = torch.cat([m for m in ms])\n",
    "\n",
    "print(b_x.size())\n"
   ]
  },
  {
   "cell_type": "code",
   "execution_count": 11,
   "metadata": {},
   "outputs": [],
   "source": [
    "from graph_utils import propogate_labels\n",
    "\n",
    "colors = []\n",
    "for m in MAL:\n",
    "    with open('inputs/mal/graph%d.pkl'%m, 'rb') as f:\n",
    "        g = pickle.load(f)\n",
    "    with open('inputs/mal/nodes%d.pkl'%m, 'rb') as f:\n",
    "        nodes = pickle.load(f)\n",
    "\n",
    "    colors.append(propogate_labels(g,nodes))\n",
    "\n",
    "colors = torch.cat(colors).clamp(0,1)"
   ]
  },
  {
   "cell_type": "code",
   "execution_count": 16,
   "metadata": {},
   "outputs": [
    {
     "data": {
      "image/png": "[encoded data removed]",
      "text/plain": [
       "<Figure size 432x288 with 1 Axes>"
      ]
     },
     "metadata": {
      "needs_background": "light"
     },
     "output_type": "display_data"
    },
    {
     "data": {
      "image/png": "[encoded data removed]",
      "text/plain": [
       "<Figure size 432x288 with 1 Axes>"
      ]
     },
     "metadata": {
      "needs_background": "light"
     },
     "output_type": "display_data"
    },
    {
     "data": {
      "image/png": "[encoded data removed]",
      "text/plain": [
       "<Figure size 432x288 with 1 Axes>"
      ]
     },
     "metadata": {
      "needs_background": "light"
     },
     "output_type": "display_data"
    },
    {
     "name": "stderr",
     "output_type": "stream",
     "text": [
      "/mnt/raid0_24TB/isaiah/miniconda/envs/py39/lib/python3.9/site-packages/sklearn/manifold/_t_sne.py:780: FutureWarning: The default initialization in TSNE will change from 'random' to 'pca' in 1.2.\n",
      "  warnings.warn(\n",
      "/mnt/raid0_24TB/isaiah/miniconda/envs/py39/lib/python3.9/site-packages/sklearn/manifold/_t_sne.py:790: FutureWarning: The default learning rate in TSNE will change from 200.0 to 'auto' in 1.2.\n",
      "  warnings.warn(\n"
     ]
    }
   ],
   "source": [
    "def plot_dots(b_x, m_x, title):\n",
    "    pca = PCA(n_components=2)\n",
    "    bx = pca.fit_transform(b_x)\n",
    "    x = pca.transform(m_x)\n",
    "\n",
    "    plt.scatter(bx[:,0], bx[:,1], color='blue')\n",
    "    plt.scatter(x[colors==0,0], x[colors==0,1], color='blue')\n",
    "    plt.scatter(x[colors==1,0], x[colors==1,1], color='red')\n",
    "    plt.title(title)\n",
    "    plt.show()\n",
    "\n",
    "def plot_dots_tsne(b_x, m_x, title):\n",
    "    pca = TSNE(n_components=2)\n",
    "    bx = pca.fit_transform(b_x)\n",
    "    x = pca.transform(m_x)\n",
    "\n",
    "    plt.scatter(bx[:,0], bx[:,1], color='blue')\n",
    "    plt.scatter(x[colors==0,0], x[colors==0,1], color='blue')\n",
    "    plt.scatter(x[colors==1,0], x[colors==1,1], color='red')\n",
    "    plt.title(title)\n",
    "    plt.show()\n",
    "\n",
    "plot_dots(b_x, m_x, 'All features')\n",
    "plot_dots(b_x[:,:256], m_x[:,:256], 'Just files')\n",
    "plot_dots(b_x[:,256:], m_x[:,256:], 'Just regs')\n",
    "\n",
    "plot_dots_tsne(b_x, m_x, 'All features')\n",
    "plot_dots_tsne(b_x[:,:256], m_x[:,:256], 'Just files')\n",
    "plot_dots_tsne(b_x[:,256:], m_x[:,256:], 'Just regs')"
   ]
  }
 ],
 "metadata": {
  "kernelspec": {
   "display_name": "Python 3.9.7 ('py39': conda)",
   "language": "python",
   "name": "python3"
  },
  "language_info": {
   "codemirror_mode": {
    "name": "ipython",
    "version": 3
   },
   "file_extension": ".py",
   "mimetype": "text/x-python",
   "name": "python",
   "nbconvert_exporter": "python",
   "pygments_lexer": "ipython3",
   "version": "3.9.7"
  },
  "orig_nbformat": 4,
  "vscode": {
   "interpreter": {
    "hash": "473274f6d6a70d5359689c967878c7d0c5bb362e0b871288b764650c357d1979"
   }
  }
 },
 "nbformat": 4,
 "nbformat_minor": 2
}
