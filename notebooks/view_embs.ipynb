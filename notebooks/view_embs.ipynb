{
 "cells": [
  {
   "cell_type": "code",
   "execution_count": 10,
   "metadata": {},
   "outputs": [
    {
     "name": "stdout",
     "output_type": "stream",
     "text": [
      "/home/isaiah/code/NestedGraphs\n"
     ]
    }
   ],
   "source": [
    "%cd /home/isaiah/code/NestedGraphs/"
   ]
  },
  {
   "cell_type": "code",
   "execution_count": 11,
   "metadata": {},
   "outputs": [],
   "source": [
    "import glob\n",
    "import torch \n",
    "import pickle\n",
    "import matplotlib.pyplot as plt\n",
    "from sklearn.decomposition import PCA \n",
    "from sklearn.manifold import TSNE"
   ]
  },
  {
   "cell_type": "code",
   "execution_count": 12,
   "metadata": {},
   "outputs": [
    {
     "name": "stdout",
     "output_type": "stream",
     "text": [
      "torch.Size([77352, 128])\n",
      "torch.Size([49125, 128])\n"
     ]
    }
   ],
   "source": [
    "b_embs = glob.glob('inputs/Sept23/benign/tgat_embgraph*')\n",
    "m_embs = glob.glob('inputs/Sept23/mal/tgat_embgraph*')\n",
    "\n",
    "bs = []\n",
    "for b in b_embs:\n",
    "    bs.append(torch.load(b))\n",
    "\n",
    "ms = []\n",
    "for m in m_embs:\n",
    "    ms.append(torch.load(m))\n",
    "\n",
    "b_x = torch.cat([b for b in bs])\n",
    "m_x = torch.cat([m for m in ms])\n",
    "\n",
    "print(b_x.size())\n",
    "print(m_x.size())\n"
   ]
  },
  {
   "cell_type": "code",
   "execution_count": 13,
   "metadata": {},
   "outputs": [],
   "source": [
    "from utils.graph_utils import propagate_labels\n",
    "\n",
    "colors = []\n",
    "for m in m_embs:\n",
    "    with open(m.replace('tgat_emb','full_'), 'rb') as f:\n",
    "        g = pickle.load(f)\n",
    "\n",
    "    procs = (g.x[:,0] == 1).nonzero().squeeze(-1)\n",
    "    y = propagate_labels(g,23)\n",
    "    colors.append(y[procs])\n",
    "\n",
    "colors = torch.cat(colors).clamp(0,1)"
   ]
  },
  {
   "cell_type": "code",
   "execution_count": 32,
   "metadata": {},
   "outputs": [],
   "source": [
    "def plots_dots(b_x, m_x, title, colors):\n",
    "    pca = PCA(n_components=2)\n",
    "    bx = pca.fit_transform(b_x)\n",
    "    x = pca.transform(m_x)\n",
    "\n",
    "    plt.scatter(bx[:,0], bx[:,1], color='blue')\n",
    "    plt.scatter(x[colors==0,0], x[colors==0,1], color='blue')\n",
    "    plt.scatter(x[colors==1,0], x[colors==1,1], color='red')\n",
    "    plt.title(title)\n",
    "    plt.show()"
   ]
  },
  {
   "cell_type": "code",
   "execution_count": 33,
   "metadata": {},
   "outputs": [
    {
     "data": {
      "image/png": "[encoded data removed]",
      "text/plain": [
       "<Figure size 432x288 with 1 Axes>"
      ]
     },
     "metadata": {
      "needs_background": "light"
     },
     "output_type": "display_data"
    }
   ],
   "source": [
    "plots_dots(b_x.cpu(), m_x.cpu(), 'Self CL 4 epochs', colors)"
   ]
  },
  {
   "cell_type": "code",
   "execution_count": 34,
   "metadata": {},
   "outputs": [],
   "source": [
    "def plots_dots_TSNE(b_x, m_x, title, colors):\n",
    "    colors = torch.cat([torch.zeros(b_x.size(0)), colors])\n",
    "    tsne = TSNE(n_components=2)\n",
    "    x = tsne.fit_transform(torch.cat([b_x,m_x],dim=0))\n",
    "\n",
    "    #plt.scatter(bx[:,0], bx[:,1], color='blue')\n",
    "    plt.scatter(x[colors==0,0], x[colors==0,1], color='blue')\n",
    "    plt.scatter(x[colors==1,0], x[colors==1,1], color='red')\n",
    "    plt.title(title)\n",
    "    plt.show()"
   ]
  },
  {
   "cell_type": "code",
   "execution_count": 35,
   "metadata": {},
   "outputs": [
    {
     "name": "stderr",
     "output_type": "stream",
     "text": [
      "/home/isaiah/miniconda3/envs/gpu/lib/python3.9/site-packages/sklearn/manifold/_t_sne.py:800: FutureWarning: The default initialization in TSNE will change from 'random' to 'pca' in 1.2.\n",
      "  warnings.warn(\n",
      "/home/isaiah/miniconda3/envs/gpu/lib/python3.9/site-packages/sklearn/manifold/_t_sne.py:810: FutureWarning: The default learning rate in TSNE will change from 200.0 to 'auto' in 1.2.\n",
      "  warnings.warn(\n"
     ]
    }
   ],
   "source": [
    "plots_dots_TSNE(b_x.cpu(), m_x.cpu(), 'Self CL 100 Epochs', colors)"
   ]
  },
  {
   "cell_type": "code",
   "execution_count": null,
   "metadata": {},
   "outputs": [],
   "source": []
  }
 ],
 "metadata": {
  "kernelspec": {
   "display_name": "Python 3.9.13 ('gpu')",
   "language": "python",
   "name": "python3"
  },
  "language_info": {
   "codemirror_mode": {
    "name": "ipython",
    "version": 3
   },
   "file_extension": ".py",
   "mimetype": "text/x-python",
   "name": "python",
   "nbconvert_exporter": "python",
   "pygments_lexer": "ipython3",
   "version": "3.9.13"
  },
  "orig_nbformat": 4,
  "vscode": {
   "interpreter": {
    "hash": "db915b933937f181d4017df79cb4c053fff13bcbd81da1c0dd4b260783d8f514"
   }
  }
 },
 "nbformat": 4,
 "nbformat_minor": 2
}
